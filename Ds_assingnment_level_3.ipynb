{
  "nbformat": 4,
  "nbformat_minor": 0,
  "metadata": {
    "colab": {
      "provenance": [],
      "authorship_tag": "ABX9TyO68sMWZJxYjCRjGoDfag80",
      "include_colab_link": true
    },
    "kernelspec": {
      "name": "python3",
      "display_name": "Python 3"
    },
    "language_info": {
      "name": "python"
    }
  },
  "cells": [
    {
      "cell_type": "markdown",
      "metadata": {
        "id": "view-in-github",
        "colab_type": "text"
      },
      "source": [
        "<a href=\"https://colab.research.google.com/github/sachinsaireddy/randomwalk-ds-assessment-level3/blob/main/Ds_assingnment_level_3.ipynb\" target=\"_parent\"><img src=\"https://colab.research.google.com/assets/colab-badge.svg\" alt=\"Open In Colab\"/></a>"
      ]
    },
    {
      "cell_type": "code",
      "execution_count": 1,
      "metadata": {
        "id": "oRfhRVI3P7Ke"
      },
      "outputs": [],
      "source": [
        "import pandas as pd\n",
        "import numpy as np\n",
        "import matplotlib.pyplot as plt"
      ]
    },
    {
      "cell_type": "code",
      "source": [
        "books_df = pd.read_csv('/content/books.csv')\n",
        "book_tags_df = pd.read_csv('/content/book_tags.csv')\n",
        "ratings_df = pd.read_csv('/content/ratings.csv')"
      ],
      "metadata": {
        "id": "Vh097UidzGqh"
      },
      "execution_count": 2,
      "outputs": []
    },
    {
      "cell_type": "markdown",
      "source": [
        "1. How many books do not have an original title [books.csv]?\n",
        "\n"
      ],
      "metadata": {
        "id": "zkC0nYrozkmL"
      }
    },
    {
      "cell_type": "code",
      "source": [
        "temp = books_df['original_title'].isnull().sum()\n",
        "print('Number of books do not have an original title : ',temp)"
      ],
      "metadata": {
        "colab": {
          "base_uri": "https://localhost:8080/"
        },
        "id": "2KMzE9Wnzebr",
        "outputId": "29beb38c-0aac-464c-ba85-b24e4b969176"
      },
      "execution_count": 13,
      "outputs": [
        {
          "output_type": "stream",
          "name": "stdout",
          "text": [
            "Number of books do not have an original title :  36\n"
          ]
        }
      ]
    },
    {
      "cell_type": "markdown",
      "source": [
        "2.How many unique books are present in the dataset ? Evaluate based on the 'book_id' after removing records containing null values for original_title column in [books.csv] and corresponding records in [book_tags.csv] and [ratings.csv]"
      ],
      "metadata": {
        "id": "ojzibdHB0HHo"
      }
    },
    {
      "cell_type": "code",
      "source": [
        "books_df_cleaned = books_df.dropna(subset=['original_title'])\n",
        "\n",
        "unique_books = pd.merge(books_df_cleaned, book_tags_df, left_on='goodreads_book_id', right_on='goodreads_book_id')\n",
        "unique_books = pd.merge(unique_books, ratings_df, left_on='book_id', right_on='book_id')['book_id'].nunique()\n",
        "print(f\"Number of unique books in the dataset: {unique_books}\")\n",
        "\n"
      ],
      "metadata": {
        "colab": {
          "base_uri": "https://localhost:8080/"
        },
        "id": "ZBjh8ZlY0fFJ",
        "outputId": "72d9534d-9f9a-4f08-9609-1b0c17603534"
      },
      "execution_count": 18,
      "outputs": [
        {
          "output_type": "stream",
          "name": "stdout",
          "text": [
            "Number of unique books in the dataset: 363\n"
          ]
        }
      ]
    },
    {
      "cell_type": "markdown",
      "source": [
        "3.How many unique users are present in the dataset [ratings.csv]?\n"
      ],
      "metadata": {
        "id": "lJA4RuRL0gBQ"
      }
    },
    {
      "cell_type": "code",
      "source": [
        "unique_users = ratings_df['user_id'].nunique()\n",
        "print(\"Unique users in the dataset:\", unique_users)\n"
      ],
      "metadata": {
        "colab": {
          "base_uri": "https://localhost:8080/"
        },
        "id": "REyON4wK0dhH",
        "outputId": "c5957b79-871d-4967-ef6f-f2783cbd342e"
      },
      "execution_count": 27,
      "outputs": [
        {
          "output_type": "stream",
          "name": "stdout",
          "text": [
            "Unique users in the dataset: 40836\n"
          ]
        }
      ]
    },
    {
      "cell_type": "markdown",
      "source": [
        "4. How many unique tags are there in the dataset [book_tags.csv]?\n"
      ],
      "metadata": {
        "id": "fk-pufHZ0H9a"
      }
    },
    {
      "cell_type": "code",
      "source": [
        "unique_tags = book_tags_df['tag_id'].nunique()\n",
        "print(\"Number of unique tags in the dataset : \", unique_tags)\n"
      ],
      "metadata": {
        "colab": {
          "base_uri": "https://localhost:8080/"
        },
        "id": "AawmrHxN0Ak4",
        "outputId": "a0ec1c67-8a96-42e9-f746-ba8b15aa68c3"
      },
      "execution_count": 14,
      "outputs": [
        {
          "output_type": "stream",
          "name": "stdout",
          "text": [
            "Number of unique tags in the dataset :  3651\n"
          ]
        }
      ]
    },
    {
      "cell_type": "markdown",
      "source": [
        "5.Which tag_id is the most frequently used ie. mapped with the highest number of books [book_tags.csv] ? (In case of more than one tag, mention the tag id with the least numerical value)’."
      ],
      "metadata": {
        "id": "2JDs_8qT3Rh0"
      }
    },
    {
      "cell_type": "code",
      "source": [
        "most_used_tag = book_tags_df['tag_id'].value_counts().idxmax()\n",
        "print(\"Tag_id most frequently used: \" ,most_used_tag)"
      ],
      "metadata": {
        "colab": {
          "base_uri": "https://localhost:8080/"
        },
        "id": "T-IVlKe23XJc",
        "outputId": "d3eb88f8-d9d3-41ec-cc36-aa09bfabca09"
      },
      "execution_count": 8,
      "outputs": [
        {
          "output_type": "stream",
          "name": "stdout",
          "text": [
            "Tag_id most frequently used:  4600\n"
          ]
        }
      ]
    },
    {
      "cell_type": "markdown",
      "source": [
        "6.Which book (title) has the most number of counts of tags given by the user [book_tags.csv,books.csv]"
      ],
      "metadata": {
        "id": "9ane1A-G5MIl"
      }
    },
    {
      "cell_type": "code",
      "source": [
        "merged_df = pd.merge(book_tags_df, books_df, left_on='goodreads_book_id', right_on='goodreads_book_id')\n",
        "most_tags_count = merged_df.groupby('title')['tag_id'].count().idxmax()\n",
        "print(f\"Book with the most tags count: {most_tags_count}\")"
      ],
      "metadata": {
        "colab": {
          "base_uri": "https://localhost:8080/"
        },
        "id": "rPFUt2j45I_4",
        "outputId": "34817d7c-70db-4da2-dbe2-3449324be161"
      },
      "execution_count": 19,
      "outputs": [
        {
          "output_type": "stream",
          "name": "stdout",
          "text": [
            "Book with the most tags count: #GIRLBOSS\n"
          ]
        }
      ]
    },
    {
      "cell_type": "markdown",
      "source": [
        "7.Plot a bar chart with top 20 unique tags in descending order of ‘user records’ (the number of users tagged the given tag_id with the goodreads_book_id) [book_tags.csv]"
      ],
      "metadata": {
        "id": "MYVgPxju5cqL"
      }
    },
    {
      "cell_type": "code",
      "source": [
        "import matplotlib.pyplot as plt\n",
        "\n",
        "# Count user records for each tag and sort\n",
        "top_tags = book_tags_df.groupby('tag_id').size().sort_values(ascending=False).head(20)\n",
        "\n",
        "# Plot\n",
        "plt.figure(figsize=(10, 6))\n",
        "top_tags.plot(kind='bar')\n",
        "plt.title('Top 20 Unique Tags by User Records')\n",
        "plt.xlabel('Tag ID')\n",
        "plt.ylabel('User Records')\n",
        "plt.show()\n"
      ],
      "metadata": {
        "colab": {
          "base_uri": "https://localhost:8080/",
          "height": 594
        },
        "id": "6UiN7l635cOb",
        "outputId": "fd342f4c-702f-4157-8e29-7c2351f6af33"
      },
      "execution_count": 22,
      "outputs": [
        {
          "output_type": "display_data",
          "data": {
            "text/plain": [
              "<Figure size 1000x600 with 1 Axes>"
            ],
            "image/png": "[encoded data removed]"
          },
          "metadata": {}
        }
      ]
    }
  ]
}